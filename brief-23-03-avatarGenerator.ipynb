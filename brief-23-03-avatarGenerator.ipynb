{
 "cells": [
  {
   "cell_type": "markdown",
   "metadata": {},
   "source": [
    "## Avatar generator with generative deep learning\n",
    "\n",
    "Afin de proposer un service de génération automatique d'avatar, la société Dupond Père et Fils vous mandate afin de développer l'application.\n",
    "\n",
    "Pour ce faire, vous disposez d'un jeux de données d'avatars disponible ici (utilisez celui de **10000 images**) : \n",
    "\n",
    "    https://google.github.io/cartoonset/download.html \n",
    "\n",
    "L'opérateur souhaite utilisé une technologie de modèle profond génératif de type **GAN**. De plus, celui-ci dispose de ressource limité, il vous est demandé de redimensioner les images en **128x128 pixels.**\n",
    "\n",
    "On vous demande de réaliser les éléments suivants :\n",
    "\n",
    "- désigner le système d'apprentissage afin de produire un modèle entrainé pour le service de génération d'avatar\n",
    "\n",
    "- créer une application web permettant de générer des avatars:\n",
    "\n",
    "l'application affichera par défaut une grille ou seras affiché par défaut sur une même page **10x8 avatars** (10 ligne 8 colonne).\n",
    "**un bouton permettant de régénérer les avatars.**\n",
    "\n",
    "**Bonus : Développer un modèle alternatif utilisant un modèle type Variational Auto-Encoder (VAE)**"
   ]
  },
  {
   "cell_type": "markdown",
   "metadata": {},
   "source": [
    "### Import"
   ]
  },
  {
   "cell_type": "code",
   "execution_count": null,
   "metadata": {},
   "outputs": [],
   "source": []
  }
 ],
 "metadata": {
  "kernelspec": {
   "display_name": "Python 3",
   "language": "python",
   "name": "python3"
  },
  "language_info": {
   "codemirror_mode": {
    "name": "ipython",
    "version": 3
   },
   "file_extension": ".py",
   "mimetype": "text/x-python",
   "name": "python",
   "nbconvert_exporter": "python",
   "pygments_lexer": "ipython3",
   "version": "3.8.5"
  }
 },
 "nbformat": 4,
 "nbformat_minor": 4
}
